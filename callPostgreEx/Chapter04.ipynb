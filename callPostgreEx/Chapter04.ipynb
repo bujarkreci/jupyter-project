{
 "cells": [
  {
   "cell_type": "code",
   "execution_count": 2,
   "id": "5c8488bd",
   "metadata": {},
   "outputs": [],
   "source": [
    "#Let's test numpy array execution and regular python array. And see which is faster\n",
    "import numpy as np\n",
    "\n",
    "my_arr = np.arange(1000000)\n",
    "my_list = list(range(1000000))"
   ]
  },
  {
   "cell_type": "code",
   "execution_count": 3,
   "id": "a3008aa1",
   "metadata": {},
   "outputs": [
    {
     "name": "stdout",
     "output_type": "stream",
     "text": [
      "1.84 ms ± 26.5 µs per loop (mean ± std. dev. of 7 runs, 1,000 loops each)\n"
     ]
    }
   ],
   "source": [
    "%timeit my_arr2 = my_arr *2"
   ]
  },
  {
   "cell_type": "code",
   "execution_count": 5,
   "id": "9faabe85",
   "metadata": {},
   "outputs": [
    {
     "name": "stdout",
     "output_type": "stream",
     "text": [
      "138 ms ± 40.6 ms per loop (mean ± std. dev. of 7 runs, 10 loops each)\n"
     ]
    }
   ],
   "source": [
    "%timeit my_list2 = [x * 2 for x in my_list]"
   ]
  },
  {
   "cell_type": "code",
   "execution_count": 14,
   "id": "f36daf30",
   "metadata": {},
   "outputs": [
    {
     "data": {
      "text/plain": [
       "(dtype('float64'),\n",
       " (4, 3),\n",
       " 4,\n",
       " 2,\n",
       " array([[0., 0.],\n",
       "        [0., 0.],\n",
       "        [0., 0.],\n",
       "        [0., 0.]]))"
      ]
     },
     "execution_count": 14,
     "metadata": {},
     "output_type": "execute_result"
    }
   ],
   "source": [
    "a = np.array([[1.,2.,3.5],\n",
    "             [2.,6.,1.2],\n",
    "             [3.,7.,2.4],\n",
    "             [0.,2.5,1.]])\n",
    "#create b matrix with 0s in desired dimension you like added in tuple\n",
    "b = np.zeros((a.shape[0],a.shape[1]-1))\n",
    "\n",
    "#add a range of values 0,1,2,3,4...n-1 => np.arange(n)\n",
    "c = np.arange(15)\n",
    "\n",
    "#convert a list to np.array along with data tye conversion\n",
    "d = np.array(c, dtype=np.float64)\n",
    "\n",
    "#explicitly convert data types\n",
    "conver = d.astype(np.float32)\n",
    "\n",
    "#if you want to convert the data type from different array\n",
    "currentCal = c.astype(conver.dtype)\n",
    "\n",
    "a.dtype, a.shape, a.shape[0], a.ndim, b"
   ]
  },
  {
   "cell_type": "code",
   "execution_count": 20,
   "id": "e6b1b743",
   "metadata": {},
   "outputs": [
    {
     "data": {
      "text/plain": [
       "(array([[ True, False, False],\n",
       "        [False,  True, False]]),\n",
       " array([[False,  True, False],\n",
       "        [False, False,  True]]),\n",
       " array([[2, 7, 7],\n",
       "        [0, 7, 7]], dtype=int8),\n",
       " array([[2, 5, 1],\n",
       "        [0, 4, 2]], dtype=int8),\n",
       " 2)"
      ]
     },
     "execution_count": 20,
     "metadata": {},
     "output_type": "execute_result"
    }
   ],
   "source": [
    "#comparisons between arrays\n",
    "a = np.array([[2,5,1],\n",
    "             [0,4,2]], dtype=np.int8)\n",
    "b = np.array([[2,1,6],\n",
    "             [9,4,1]], dtype=np.int8)\n",
    "\n",
    "#replace values\n",
    "aa = a.copy()\n",
    "aa[:,1:] = 7\n",
    "a == b, a>b, aa, a, a[1,2]"
   ]
  },
  {
   "cell_type": "code",
   "execution_count": 40,
   "id": "e45448c2",
   "metadata": {},
   "outputs": [
    {
     "data": {
      "text/plain": [
       "(array([[0, 1, 2],\n",
       "        [1, 2, 3]], dtype=int8),\n",
       " array([1, 2], dtype=int8))"
      ]
     },
     "execution_count": 40,
     "metadata": {},
     "output_type": "execute_result"
    }
   ],
   "source": [
    "#try to create matrix\n",
    "q = [[i+j for i in range(3)] for j in range(2)]\n",
    "q = np.array(q, dtype=np.int8)\n",
    "q, q[:2, 1]"
   ]
  },
  {
   "cell_type": "code",
   "execution_count": 57,
   "id": "ee804e8a",
   "metadata": {},
   "outputs": [
    {
     "data": {
      "text/plain": [
       "array([[  4,   7],\n",
       "       [  0,   2],\n",
       "       [  0,   0],\n",
       "       [-12,  -4],\n",
       "       [  3,   4]])"
      ]
     },
     "execution_count": 57,
     "metadata": {},
     "output_type": "execute_result"
    }
   ],
   "source": [
    "#boolean indexing and filtering using numpy\n",
    "#to achieve this, both arrays should be of the same length in axis=0\n",
    "names = np.array([\"Bob\", \"Joe\", \"Will\", \"Bob\", \"Will\", \"Joe\", \"Joe\"])\n",
    "data = np.array([[4, 7], [0, 2], [-5, 6], [0, 0], [1, 2],[-12, -4], [3, 4]])\n",
    "\n",
    "data[names==\"Joe\"]\n",
    "#show all matching but only show from second column\n",
    "data[names==\"Joe\", 1:]\n",
    "\n",
    "#show all matching but only show second column\n",
    "data[names==\"Joe\", 1]\n",
    "\n",
    "#select everythng but \"Joe\". Both are correct\n",
    "data[~(names==\"Joe\")] ,data[names != \"Joe\"]\n",
    "\n",
    "#you can make condition by yourself. | mean \"or\" and & mean \"and\"\n",
    "cond = (names==\"Joe\") | (names==\"Bob\")\n",
    "data[cond]\n",
    "\n",
    "#if you want to assign all negative values to 0\n",
    "data[data < 0] = 0\n",
    "\n",
    "#write value explicitly\n",
    "data[names==\"Joe\"] = 7"
   ]
  },
  {
   "cell_type": "code",
   "execution_count": 77,
   "id": "90e21288",
   "metadata": {},
   "outputs": [
    {
     "data": {
      "text/plain": [
       "(array([[ 0,  5, 10],\n",
       "        [ 1,  6, 11],\n",
       "        [ 2,  7, 12],\n",
       "        [ 3,  8, 13],\n",
       "        [ 4,  9, 14]]),\n",
       " array([[ 0,  5, 10],\n",
       "        [ 1,  6, 11],\n",
       "        [ 2,  7, 12],\n",
       "        [ 3,  8, 13],\n",
       "        [ 4,  9, 14]]),\n",
       " array([[ 0,  1,  2,  3,  4],\n",
       "        [ 5,  6,  7,  8,  9],\n",
       "        [10, 11, 12, 13, 14]]))"
      ]
     },
     "execution_count": 77,
     "metadata": {},
     "output_type": "execute_result"
    }
   ],
   "source": [
    "#fancy indexing\n",
    "a = [[j+i*4 for j in range(4)] for i in range(8)]\n",
    "a = np.array(a, dtype=np.int8)\n",
    "\n",
    "#it will print a[2,0] and a[4,2]\n",
    "a[[2,4],[0,2]]\n",
    "\n",
    "#assigning values. values in a[2,0] and a[4,2] will be 0\n",
    "a[[2,4],[0,2]] = 0\n",
    "\n",
    "#you can reshape and rotate or transpose array\n",
    "b = np.arange(15).reshape((3,5))\n",
    "#both are correct for transposing\n",
    "b.T, b.swapaxes(0,1), b\n",
    "\n",
    "#you can do matrix multiplication in both ways\n",
    "np.dot(b.T, b), b.T @ b\n"
   ]
  },
  {
   "cell_type": "code",
   "execution_count": 82,
   "id": "bed70107",
   "metadata": {},
   "outputs": [
    {
     "data": {
      "text/plain": [
       "(array([[-0.11912518,  0.31864229, -0.35330869],\n",
       "        [-0.29586617, -0.37671654, -0.70442326]]),\n",
       " array([[-7.,  6., -4.],\n",
       "        [-1., -0., -3.]]),\n",
       " array([[-1.,  1., -1.],\n",
       "        [-1.,  0., -1.]]))"
      ]
     },
     "execution_count": 82,
     "metadata": {},
     "output_type": "execute_result"
    }
   ],
   "source": [
    "#pseudorandom\n",
    "rng = np.random.default_rng(seed=12345)\n",
    "\n",
    "data = rng.standard_normal((2,3))\n",
    "data = data *5\n",
    "\n",
    "#you can split in 2 matrix. One with whole number, the other one just reminder\n",
    "reminder, whole = np.modf(data)\n",
    "reminder, whole, np.sign(whole)"
   ]
  },
  {
   "cell_type": "code",
   "execution_count": 87,
   "id": "3849dc14",
   "metadata": {},
   "outputs": [
    {
     "data": {
      "text/plain": [
       "(array([[ 0.57585751,  1.39897899,  1.32229806],\n",
       "        [-0.29969852,  0.90291934, -1.62158273]]),\n",
       " array([[ 1,  1,  1],\n",
       "        [-1,  1, -1]]),\n",
       " array([[ 0.57585751,  1.39897899,  1.32229806],\n",
       "        [-1.        ,  0.90291934, -1.        ]]))"
      ]
     },
     "execution_count": 87,
     "metadata": {},
     "output_type": "execute_result"
    }
   ],
   "source": [
    "#conditional logic expressions\n",
    "xarr = np.array([1.1, 1.2, 1.3, 1.4, 1.5])\n",
    "yarr = np.array([2.1, 2.2, 2.3, 2.4, 2.5])\n",
    "cond = np.array([True, False, True, True, False])\n",
    "\n",
    "#it will be very slow for huge array\n",
    "result = [(x if c else y) for x, y, c in zip(xarr, yarr, cond)]\n",
    "\n",
    "#the better solution is by using np.where. It is like IIF in SQL\n",
    "result1 = np.where(cond, xarr, yarr)\n",
    "result, result1\n",
    "\n",
    "b = rng.standard_normal((2,3))\n",
    "res = np.where(b<0, -1, 1)\n",
    "\n",
    "#you can combine scalar and array\n",
    "res1 = np.where(b<0, -1, b)\n",
    "b, res, res1"
   ]
  },
  {
   "cell_type": "code",
   "execution_count": 92,
   "id": "1028b56b",
   "metadata": {},
   "outputs": [
    {
     "data": {
      "text/plain": [
       "(array([[0.06114402, 0.0709146 , 0.43365454],\n",
       "        [0.27748366, 0.53025239, 0.53672097]]),\n",
       " array([[0.06114402, 0.0709146 , 0.43365454],\n",
       "        [0.33862768, 0.60116699, 0.97037551]]))"
      ]
     },
     "execution_count": 92,
     "metadata": {},
     "output_type": "execute_result"
    }
   ],
   "source": [
    "#statistical methods\n",
    "sta = rng.standard_normal((2,3))\n",
    "#these both are identical\n",
    "sta.mean(), np.mean(sta)\n",
    "\n",
    "#you can use axis\n",
    "mean_r = sta.mean(axis=0)\n",
    "mean_c = sta.mean(axis=1)\n",
    "sta, mean_r, mean_c\n",
    "\n",
    "#cumulutative sum is for financial purpose to sum rows or cols based on axis\n",
    "cums = sta.cumsum(axis=0)\n",
    "sta, cums"
   ]
  },
  {
   "cell_type": "code",
   "execution_count": 96,
   "id": "0c7651a8",
   "metadata": {},
   "outputs": [
    {
     "data": {
      "text/plain": [
       "array([[-1.8708905 , -1.49848205, -0.08473721, -0.82169797, -2.21108587],\n",
       "       [ 0.43597419, -1.17264499,  0.20345047, -0.38460681, -0.94237273],\n",
       "       [ 0.56434513, -0.97475833,  0.70638953,  0.21242713,  0.73004882],\n",
       "       [ 1.26177194, -0.26705217,  1.445592  ,  0.53486059,  0.90008171]])"
      ]
     },
     "execution_count": 96,
     "metadata": {},
     "output_type": "execute_result"
    }
   ],
   "source": [
    "#methods for boolean arrays\n",
    "arr = rng.standard_normal(100)\n",
    "sumTotal = (arr < 0).sum()\n",
    "sumTotal\n",
    "\n",
    "#sort values\n",
    "arr.sort()\n",
    "\n",
    "#sort based on axis\n",
    "arr1 = rng.standard_normal((4,5))\n",
    "arr1.sort(axis=0)\n",
    "arr1\n",
    "\n",
    "#this kind of sorting is making copy\n",
    "arr2 = np.sort(arr1)"
   ]
  },
  {
   "cell_type": "code",
   "execution_count": 99,
   "id": "97bd2245",
   "metadata": {},
   "outputs": [
    {
     "data": {
      "text/plain": [
       "array([ True, False, False,  True,  True, False,  True])"
      ]
     },
     "execution_count": 99,
     "metadata": {},
     "output_type": "execute_result"
    }
   ],
   "source": [
    "#uniqueness\n",
    "names = np.array([\"Bob\", \"Will\", \"Joe\", \"Bob\", \"Will\", \"Joe\", \"Joe\"])\n",
    "\n",
    "#show only unique names sorted by default\n",
    "np.unique(names)\n",
    "\n",
    "#for numbers\n",
    "ints = np.array([3, 3, 3, 2, 2, 1, 1, 4, 4])\n",
    "np.unique(ints)\n",
    "\n",
    "#in1d will return if set num exists\n",
    "values = np.array([6, 0, 0, 3, 2, 5, 6])\n",
    "\n",
    "np.in1d(values, [2, 3, 6])"
   ]
  },
  {
   "cell_type": "code",
   "execution_count": 109,
   "id": "948ae897",
   "metadata": {},
   "outputs": [
    {
     "ename": "ValueError",
     "evalue": "Cannot load file containing pickled data when allow_pickle=False",
     "output_type": "error",
     "traceback": [
      "\u001b[1;31m---------------------------------------------------------------------------\u001b[0m",
      "\u001b[1;31mValueError\u001b[0m                                Traceback (most recent call last)",
      "Cell \u001b[1;32mIn [109], line 14\u001b[0m\n\u001b[0;32m     11\u001b[0m np\u001b[38;5;241m.\u001b[39msavetxt(\u001b[38;5;124m\"\u001b[39m\u001b[38;5;124mnumpyfiles/sampledata.csv\u001b[39m\u001b[38;5;124m\"\u001b[39m, vals, delimiter\u001b[38;5;241m=\u001b[39m\u001b[38;5;124m'\u001b[39m\u001b[38;5;124m,\u001b[39m\u001b[38;5;124m'\u001b[39m)\n\u001b[0;32m     13\u001b[0m \u001b[38;5;66;03m#load data\u001b[39;00m\n\u001b[1;32m---> 14\u001b[0m a\u001b[38;5;241m=\u001b[39m \u001b[43mnp\u001b[49m\u001b[38;5;241;43m.\u001b[39;49m\u001b[43mload\u001b[49m\u001b[43m(\u001b[49m\u001b[38;5;124;43m\"\u001b[39;49m\u001b[38;5;124;43mnumpyfiles/sampledata.csv\u001b[39;49m\u001b[38;5;124;43m\"\u001b[39;49m\u001b[43m)\u001b[49m\n\u001b[0;32m     15\u001b[0m a\n",
      "File \u001b[1;32m~\\miniconda3\\envs\\buki\\lib\\site-packages\\numpy\\lib\\npyio.py:418\u001b[0m, in \u001b[0;36mload\u001b[1;34m(file, mmap_mode, allow_pickle, fix_imports, encoding)\u001b[0m\n\u001b[0;32m    415\u001b[0m \u001b[38;5;28;01melse\u001b[39;00m:\n\u001b[0;32m    416\u001b[0m     \u001b[38;5;66;03m# Try a pickle\u001b[39;00m\n\u001b[0;32m    417\u001b[0m     \u001b[38;5;28;01mif\u001b[39;00m \u001b[38;5;129;01mnot\u001b[39;00m allow_pickle:\n\u001b[1;32m--> 418\u001b[0m         \u001b[38;5;28;01mraise\u001b[39;00m \u001b[38;5;167;01mValueError\u001b[39;00m(\u001b[38;5;124m\"\u001b[39m\u001b[38;5;124mCannot load file containing pickled data \u001b[39m\u001b[38;5;124m\"\u001b[39m\n\u001b[0;32m    419\u001b[0m                          \u001b[38;5;124m\"\u001b[39m\u001b[38;5;124mwhen allow_pickle=False\u001b[39m\u001b[38;5;124m\"\u001b[39m)\n\u001b[0;32m    420\u001b[0m     \u001b[38;5;28;01mtry\u001b[39;00m:\n\u001b[0;32m    421\u001b[0m         \u001b[38;5;28;01mreturn\u001b[39;00m pickle\u001b[38;5;241m.\u001b[39mload(fid, \u001b[38;5;241m*\u001b[39m\u001b[38;5;241m*\u001b[39mpickle_kwargs)\n",
      "\u001b[1;31mValueError\u001b[0m: Cannot load file containing pickled data when allow_pickle=False"
     ]
    }
   ],
   "source": [
    "#File input and output\n",
    "arr = np.arange(10)\n",
    "np.save(\"numpyfiles/some_array\", arr)\n",
    "\n",
    "#you can save in dictionary format\n",
    "keys = np.array([\"saz\", \"bez\", \"cex\"])\n",
    "vals = np.array([1,2,3])\n",
    "#error with encoding\n",
    "np.savez(\"numpyfiles/sampledict.txt\", a=keys, b=vals)\n",
    "\n",
    "np.savetxt(\"numpyfiles/sampledata.csv\", vals, delimiter=',')\n",
    "\n",
    "#load data\n",
    "a= np.load(\"numpyfiles/sampledata.csv\")\n",
    "a"
   ]
  },
  {
   "cell_type": "code",
   "execution_count": 121,
   "id": "f43581f0",
   "metadata": {},
   "outputs": [
    {
     "data": {
      "text/plain": [
       "array([[ 1.00000000e+00,  0.00000000e+00, -3.33066907e-16],\n",
       "       [-5.55111512e-17,  1.00000000e+00, -8.32667268e-17],\n",
       "       [ 1.11022302e-16,  5.55111512e-17,  1.00000000e+00]])"
      ]
     },
     "execution_count": 121,
     "metadata": {},
     "output_type": "execute_result"
    }
   ],
   "source": [
    "#inverse matrix\n",
    "a = np.array([[1,6,3],[5,2,9],[4,2,1]])\n",
    "b = np.linalg.inv(a)\n",
    "x"
   ]
  },
  {
   "cell_type": "code",
   "execution_count": null,
   "id": "278f2121",
   "metadata": {},
   "outputs": [],
   "source": []
  }
 ],
 "metadata": {
  "kernelspec": {
   "display_name": "Python 3 (ipykernel)",
   "language": "python",
   "name": "python3"
  },
  "language_info": {
   "codemirror_mode": {
    "name": "ipython",
    "version": 3
   },
   "file_extension": ".py",
   "mimetype": "text/x-python",
   "name": "python",
   "nbconvert_exporter": "python",
   "pygments_lexer": "ipython3",
   "version": "3.9.13"
  }
 },
 "nbformat": 4,
 "nbformat_minor": 5
}
