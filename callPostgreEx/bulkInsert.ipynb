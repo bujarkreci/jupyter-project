{
 "cells": [
  {
   "cell_type": "code",
   "execution_count": 6,
   "id": "b2f66934",
   "metadata": {},
   "outputs": [],
   "source": [
    "#from app.db import connect\n",
    "import pandas as pd\n",
    "import numpy as np\n",
    "import psycopg2\n",
    "\n",
    "df=pd.read_csv('myCSV/names4.csv') \n",
    "df.index = np.arange(6001, len(df) + 6001)\n",
    "data = pd.DataFrame(df)\n",
    "data.to_csv('myCSV/names4_1.csv', index_label='id', header=False)"
   ]
  },
  {
   "cell_type": "code",
   "execution_count": 13,
   "id": "9ed7bdc8",
   "metadata": {},
   "outputs": [
    {
     "name": "stdout",
     "output_type": "stream",
     "text": [
      "Connecting...\n",
      "copy_from_stringio() done\n"
     ]
    }
   ],
   "source": [
    "from app import cfi\n",
    "from app.db import connectWrite\n",
    "import pandas as pd\n",
    "from sqlalchemy import bindparam, text, String\n",
    "from io import StringIO\n",
    "from psycopg2 import sql\n",
    "import psycopg2 as pg\n",
    "\n",
    "con = connectWrite()\n",
    "statement = \"CREATE TABLE IF NOT EXISTS temporary.source of datasetcustomers;\"  \n",
    "con.execute(statement)\n",
    "statement = \"TRUNCATE TABLE temporary.source;\"  \n",
    "con.execute(statement)\n",
    "con.close()\n",
    "con = cfi\n",
    "buffer = StringIO()\n",
    "data.to_csv(buffer, index_label='id', header=False)\n",
    "buffer.seek(0)\n",
    "con = pg.connect(**cfi)    \n",
    "cursor = con.cursor()\n",
    "try: \n",
    "    string = sql.SQL(        \n",
    "        \"\"\"\n",
    "        copy temporary.source\n",
    "        from stdin (\n",
    "            format csv,\n",
    "            null \"NULL\",\n",
    "            delimiter ','\n",
    "        );\n",
    "        \"\"\")\n",
    "    #with open(fln) as csv_file: \n",
    "    cursor.copy_expert(string, buffer)\n",
    "    con.commit()\n",
    "except (Exception, psycopg2.DatabaseError) as error: \n",
    "    print(\"Error: %s\" % error)\n",
    "    con.rollback()\n",
    "    cursor.close()\n",
    "    #return 1\n",
    "print(\"copy_from_stringio() done\")\n",
    "cursor.close()\n",
    "con.close()\n"
   ]
  },
  {
   "cell_type": "code",
   "execution_count": 15,
   "id": "04b9c243",
   "metadata": {},
   "outputs": [
    {
     "name": "stdout",
     "output_type": "stream",
     "text": [
      "Connecting...\n",
      "      firstname  lastname\n",
      "6001      Alyda     Izaak\n",
      "6002  Blondelle    Daegal\n",
      "6003    Shirlee     Astra\n",
      "6004   Dulcinea     Nunci\n",
      "6005    Kirstin   Colleen\n",
      "...         ...       ...\n",
      "7996    Imojean    Irmine\n",
      "7997   Cindelyn     Levey\n",
      "7998      Eadie    Daegal\n",
      "7999      Diena     Rubie\n",
      "8000    Lisette  Magnolia\n",
      "\n",
      "[2000 rows x 2 columns]\n"
     ]
    }
   ],
   "source": [
    "con = connectWrite()\n",
    "stmt = \"CALL test_run();\"\n",
    "con.execute(stmt)\n",
    "con.close()\n",
    "print(data)"
   ]
  },
  {
   "cell_type": "code",
   "execution_count": null,
   "id": "8c5383a2",
   "metadata": {},
   "outputs": [],
   "source": []
  }
 ],
 "metadata": {
  "kernelspec": {
   "display_name": "Python 3 (ipykernel)",
   "language": "python",
   "name": "python3"
  },
  "language_info": {
   "codemirror_mode": {
    "name": "ipython",
    "version": 3
   },
   "file_extension": ".py",
   "mimetype": "text/x-python",
   "name": "python",
   "nbconvert_exporter": "python",
   "pygments_lexer": "ipython3",
   "version": "3.9.13"
  }
 },
 "nbformat": 4,
 "nbformat_minor": 5
}
