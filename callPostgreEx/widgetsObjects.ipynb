{
 "cells": [
  {
   "cell_type": "code",
   "execution_count": 1,
   "id": "f257d597",
   "metadata": {},
   "outputs": [
    {
     "data": {
      "application/vnd.jupyter.widget-view+json": {
       "model_id": "a4358ed4dbcd458f8dac2b4a4915aca0",
       "version_major": 2,
       "version_minor": 0
      },
      "text/plain": [
       "interactive(children=(Combobox(value='', description='Country 0', options=('USA', 'Russia')), Combobox(value='…"
      ]
     },
     "metadata": {},
     "output_type": "display_data"
    },
    {
     "data": {
      "application/vnd.jupyter.widget-view+json": {
       "model_id": "04219c1eed724ef5974742d5ebb6846c",
       "version_major": 2,
       "version_minor": 0
      },
      "text/plain": [
       "interactive(children=(Combobox(value='', description='Country 1', options=('Taiwan', 'China')), Combobox(value…"
      ]
     },
     "metadata": {},
     "output_type": "display_data"
    }
   ],
   "source": [
    "from ipywidgets import Combobox, interact\n",
    "geo0 = {'USA':['CHI','NYC'],'Russia':['MOW','LED']}\n",
    "geo1 = {\"Taiwan\":['TPE', \"HSI\"], \"China\":[\"SHA\",\"SHE\"]}\n",
    "countryW, cityW = [], []\n",
    "\n",
    "# Define list of comboboxes \n",
    "for idx in range(0, 2):\n",
    "    var = eval(\"geo\" + str(idx))\n",
    "    countryW.append(Combobox(options=list(var.keys()), description=\"Country \"+str(idx)))\n",
    "    cityW.append(Combobox(description=\"City \"+str(idx)))  \n",
    "\n",
    "# Define the handler\n",
    "def update_options(*arg):    \n",
    "    global idx\n",
    "    var = eval(\"geo\" + str(idx))\n",
    "    try:\n",
    "        cityW[idx].options = [\"\"]\n",
    "        cityW[idx].options = var[countryW[idx].value]\n",
    "    except:\n",
    "        cityW[idx].options = [\"\"]   \n",
    "        \n",
    "# Ask for the callback        \n",
    "for idx in range(0, 2): \n",
    "    countryW[idx].observe(update_options)\n",
    "\n",
    "# Print the country name & city name\n",
    "for idx  in range(0, 2):\n",
    "    @interact(country = countryW[idx], city = cityW[idx])\n",
    "    def print_city(country, city):\n",
    "            print(country, city)"
   ]
  },
  {
   "cell_type": "code",
   "execution_count": 4,
   "id": "daf73b1d",
   "metadata": {},
   "outputs": [
    {
     "data": {
      "application/vnd.jupyter.widget-view+json": {
       "model_id": "b3b9c0ec15ad45a69f928fec1840c7c3",
       "version_major": 2,
       "version_minor": 0
      },
      "text/plain": [
       "Combobox(value='', description='Combobox:', options=('Paul', 'John', 'George', 'Ringo'), placeholder='Choose S…"
      ]
     },
     "execution_count": 4,
     "metadata": {},
     "output_type": "execute_result"
    }
   ],
   "source": [
    "from ipywidgets import widgets\n",
    "widgets.Combobox(\n",
    "    # value='John',\n",
    "    placeholder='Choose Someone',\n",
    "    options=['Paul', 'John', 'George', 'Ringo'],\n",
    "    description='Combobox:',\n",
    "    ensure_option=True,\n",
    "    disabled=False\n",
    ")"
   ]
  },
  {
   "cell_type": "code",
   "execution_count": 5,
   "id": "1202d219",
   "metadata": {},
   "outputs": [
    {
     "data": {
      "application/vnd.jupyter.widget-view+json": {
       "model_id": "771a58ade1284c34afe60603064427eb",
       "version_major": 2,
       "version_minor": 0
      },
      "text/plain": [
       "interactive(children=(Dropdown(description='x', options=('red', 'green'), value='red'), Output()), _dom_classe…"
      ]
     },
     "metadata": {},
     "output_type": "display_data"
    }
   ],
   "source": [
    "from ipywidgets import interact \n",
    "def myfunction(x): \n",
    "    return x \n",
    "interact(myfunction, x=['red','green']); "
   ]
  },
  {
   "cell_type": "code",
   "execution_count": 12,
   "id": "f4bdb53c",
   "metadata": {},
   "outputs": [
    {
     "data": {
      "application/vnd.jupyter.widget-view+json": {
       "model_id": "0f3cb9043ec342e4921d3568eee2b1c0",
       "version_major": 2,
       "version_minor": 0
      },
      "text/plain": [
       "Dropdown(description='Make:', index=1, options=(('BMW', 1), ('Range Rover', 2), ('Mercedes', 3)), value=2)"
      ]
     },
     "execution_count": 12,
     "metadata": {},
     "output_type": "execute_result"
    }
   ],
   "source": [
    "from ipywidgets import widgets\n",
    "dropvals = widgets.Dropdown(\n",
    "    options=[('BMW', 1), ('Range Rover', 2), ('Mercedes', 3)],\n",
    "    value=2,\n",
    "    description='Make:',\n",
    ")\n",
    "dropvals"
   ]
  },
  {
   "cell_type": "code",
   "execution_count": 10,
   "id": "3aeb3dff",
   "metadata": {},
   "outputs": [
    {
     "name": "stdout",
     "output_type": "stream",
     "text": [
      "3\n",
      "Mercedes\n"
     ]
    }
   ],
   "source": [
    "print(dropvals.value)\n",
    "print(dropvals.label)"
   ]
  },
  {
   "cell_type": "code",
   "execution_count": 13,
   "id": "713b5325",
   "metadata": {},
   "outputs": [
    {
     "data": {
      "application/vnd.jupyter.widget-view+json": {
       "model_id": "c01bab710256447bab0e67bdf09f07cc",
       "version_major": 2,
       "version_minor": 0
      },
      "text/plain": [
       "Text(value='', description='String:', placeholder='What is your name?')"
      ]
     },
     "execution_count": 13,
     "metadata": {},
     "output_type": "execute_result"
    }
   ],
   "source": [
    "txtval = widgets.Text(\n",
    "    value='',\n",
    "    placeholder='What is your name?',\n",
    "    description='String:',\n",
    "    disabled=False\n",
    ")\n",
    "\n",
    "txtval"
   ]
  },
  {
   "cell_type": "code",
   "execution_count": 41,
   "id": "33c918c5",
   "metadata": {},
   "outputs": [
    {
     "data": {
      "application/vnd.jupyter.widget-view+json": {
       "model_id": "365e096aa30748dfa8864da6bc904a0a",
       "version_major": 2,
       "version_minor": 0
      },
      "text/plain": [
       "Dropdown(description='Countries:', index=8, options=(('AFGHANISTAN', 190), ('ALBANIA', 76), ('ALGERIA', 117), …"
      ]
     },
     "execution_count": 41,
     "metadata": {},
     "output_type": "execute_result"
    }
   ],
   "source": [
    "import pandas as pd\n",
    "from ipywidgets import widgets\n",
    "\n",
    "res = pd.read_csv('FifaWC2022/NationalTeamsMappingIDs.csv')\n",
    "res = pd.DataFrame(res)\n",
    "res1 = list(zip(res['NationalTeamName'], res['NationalTeamId']))\n",
    "#res1 = list(res.itertuples(index=False, name=None))\n",
    "\n",
    "button = widgets.Button(description='Click here')\n",
    "slider = widgets.IntSlider()\n",
    "stack = widgets.Stack([button, slider], selected_index=0)\n",
    "\n",
    "dropvals = widgets.Dropdown(\n",
    "    options=res1,\n",
    "    value=1,\n",
    "    description='Countries:',\n",
    ")\n",
    "dropvals\n",
    "#widgets.jslink((dropvals, 'index'), (stack, 'selected_index'))\n",
    "#widgets.VBox([dropvals, stack])\n",
    "\n",
    "\n"
   ]
  },
  {
   "cell_type": "code",
   "execution_count": 42,
   "id": "923cc193",
   "metadata": {},
   "outputs": [
    {
     "data": {
      "text/plain": [
       "Link(source=(Dropdown(description='Countries:', index=8, options=(('AFGHANISTAN', 190), ('ALBANIA', 76), ('ALGERIA', 117), ('AMERICAN SAMOA', 222), ('ANDORRA', 193), ('ANGOLA', 109), ('ANGUILLA', 210), ('ANTIGUA AND BARBUDA', 108), ('ARGENTINA', 1), ('ARMENIA', 86), ('ARUBA', 175), ('AUSTRALIA', 21), ('AUSTRIA', 44), ('AZERBAIJAN', 88), ('BAHAMAS', 172), ('BAHRAIN', 23), ('BANGLADESH', 161), ('BARBADOS', 105), ('BELARUS', 77), ('BELGIUM', 45), ('BELIZE', 174), ('BENIN', 135), ('BERMUDA', 106), ('BHUTAN', 187), ('BOLIVIA', 9), ('BONAIRE', 211), ('BOSNIA & HERZEGOVINA', 78), ('BOTSWANA', 137), ('BRAZIL', 2), ('BRITISH VIRGIN ISLANDS', 220), ('BRUNEI DARUSSALAM', 191), ('BULGARIA', 46), ('BURKINA FASO', 118), ('BURUNDI', 143), ('CAMBODIA', 164), ('CAMEROON', 110), ('CANADA', 96), ('CAPE VERDE', 119), ('CAYMAN ISLANDS', 178), ('CENTRAL AFRICAN REPUBLIC', 197), ('CHAD', 195), ('CHILE', 3), ('CHINA', 22), ('CHINESE TAIPEI', 157), ('COLOMBIA', 4), ('COMOROS', 199), ('CONGO', 120), ('COOK ISLANDS', 155), ('COSTA RICA', 92), ('COTE D’IVOIRE', 111), ('CROATIA', 47), ('CUBA', 97), ('CURACAO', 177), ('CYPRUS', 79), ('CZECH REPUBLIC', 48), ('DENMARK', 49), ('DJIBOUTI', 203), ('DOMINICA', 170), ('DOMINICAN REPUBLIC', 171), ('DR CONGO', 121), ('ECUADOR', 5), ('EGYPT', 122), ('EL SALVADOR', 107), ('ENGLAND', 50), ('EQUATORIAL GUINEA', 133), ('ERITREA', 201), ('ESTONIA', 90), ('ESWATINI', 150), ('ETHIOPIA', 140), ('FAROE ISLANDS', 167), ('FIJI', 14), ('FINLAND', 51), ('FRANCE', 52), ('FRENCH GUIANA', 212), ('FS MICRONESIA', 215), ('GABON', 124), ('GAMBIA', 141), ('GEORGIA', 80), ('GERMANY', 53), ('GHANA', 112), ('GIBRALTAR', 204), ('GREECE', 54), ('GRENADA', 173), ('GUADELOUPE', 213), ('GUAM', 223), ('GUATEMALA', 98), ('GUINEA', 125), ('GUINEA BISSAU', 181), ('GUYANA', 99), ('HAITI', 100), ('HONDURAS', 101), ('HONG KONG', 31), ('HUNGARY', 55), ('ICELAND', 81), ('INDIA', 43), ('INDONESIA', 39), ('IRAN', 17), ('IRAQ', 24), ('ISRAEL', 82), ('ITALY', 57), ('JAMAICA', 102), ('JAPAN', 18), ('JORDAN', 25), ('KAZAKHSTAN', 87), ('KENYA', 136), ('KOREA DPR', 34), ('KOSOVO', 194), ('KUWAIT', 26), ('KYRGYZSTAN', 40), ('LAOS', 186), ('LATVIA', 58), ('LEBANON', 37), ('LESOTHO', 200), ('LIBERIA', 149), ('LIBYA', 126), ('LIECHTENSTEIN', 89), ('LITHUANIA', 83), ('LUXEMBOURG', 152), ('MACAU', 160), ('MADAGASCAR', 182), ('MALAWI', 146), ('MALAYSIA', 151), ('MALDIVES', 162), ('MALI', 127), ('MALTA', 91), ('MARTINIQUE', 214), ('MAURITANIA', 147), ('MAURITIUS', 183), ('MAYOTTE', 205), ('MEXICO', 93), ('MOLDOVA', 85), ('MONGOLIA', 189), ('MONTENEGRO', 184), ('MONTSERRAT', 216), ('MOROCCO', 128), ('MOZAMBIQUE', 134), ('MYANMAR', 188), ('NAMIBIA', 142), ('NEPAL', 158), ('NETHERLANDS', 59), ('NEW CALEDONIA', 12), ('NEW ZEALAND', 11), ('NICARAGUA', 176), ('NIGER', 196), ('NIGERIA', 113), ('NORTH MACEDONIA', 84), ('NORTHERN IRELAND', 60), ('NORTHERN MARIANA ISLANDS', 224), ('NORWAY', 61), ('OMAN', 27), ('PAKISTAN', 165), ('PALAU', 225), ('PALESTINE', 185), ('PANAMA', 103), ('PAPUA NEW GUINEA', 156), ('PARAGUAY', 6), ('PERU', 7), ('PHILIPPINES', 159), ('POLAND', 62), ('PORTUGAL', 63), ('PUERTO RICO', 168), ('QATAR', 28), ('REPUBLIC OF IRELAND', 56), ('REUNION', 206), ('ROMANIA', 64), ('RUSSIA', 65), ('RWANDA', 144), ('SAINT MARTIN', 217), ('SAMOA', 16), ('SAN MARINO', 166), ('SAO TOME AND PRINCIPE', 207), ('SAUDI ARABIA', 19), ('SCOTLAND', 66), ('SENEGAL', 129), ('SERBIA', 67), ('SEYCHELLES', 198), ('SIERRA LEONE', 123), ('SINGAPORE', 36), ('SINT MAARTEN', 218), ('SLOVAKIA', 68), ('SLOVENIA', 69), ('SOLOMON ISLANDS', 13), ('SOMALIA', 202), ('SOUTH AFRICA', 114), ('SOUTH KOREA', 20), ('SOUTH SUDAN', 208), ('SPAIN', 70), ('SRI LANKA', 163), ('ST KITTS AND NEVIS', 169), ('ST LUCIA', 180), ('ST VINCENT AND THE GRENADINES', 104), ('SUDAN', 139), ('SURINAME', 179), ('SWEDEN', 71), ('SWITZERLAND', 72), ('SYRIA', 32), ('TAHITI', 154), ('TAJIKISTAN', 41), ('TANZANIA', 138), ('THAILAND', 33), ('TIBET', 226), ('TIMOR-LESTE', 192), ('TOGO', 115), ('TONGA', 153), ('TRINIDAD & TOBAGO', 94), ('TUNISIA', 116), ('TURKEY', 73), ('TURKMENISTAN', 35), ('TURKS AND CAICOS ISLANDS', 219), ('UGANDA', 130), ('UKRAINE', 74), ('UNITED ARAB EMIRATES', 29), ('URUGUAY', 8), ('US VIRGIN ISLANDS', 221), ('USA', 95), ('UZBEKISTAN', 30), ('VANUATU', 15), ('VENEZUELA', 10), ('VIETNAM', 38), ('WALES', 75), ('YEMEN', 42), ('ZAMBIA', 131), ('ZANZIBAR', 209), ('ZIMBABWE', 132)), value=1), 'index'), target=(Stack(children=(Button(description='Click here', style=ButtonStyle()), IntSlider(value=0)), selected_index=0, titles=('', '')), 'selected_index'))"
      ]
     },
     "execution_count": 42,
     "metadata": {},
     "output_type": "execute_result"
    }
   ],
   "source": [
    "widgets.jslink((dropvals, 'index'), (stack, 'selected_index'))"
   ]
  },
  {
   "cell_type": "code",
   "execution_count": 43,
   "id": "f69e488b",
   "metadata": {},
   "outputs": [
    {
     "name": "stdout",
     "output_type": "stream",
     "text": [
      "21\n",
      "AUSTRALIA\n"
     ]
    }
   ],
   "source": [
    "print(dropvals.value)\n",
    "print(dropvals.label)"
   ]
  },
  {
   "cell_type": "code",
   "execution_count": null,
   "id": "a169ee35",
   "metadata": {},
   "outputs": [],
   "source": []
  }
 ],
 "metadata": {
  "kernelspec": {
   "display_name": "Python 3 (ipykernel)",
   "language": "python",
   "name": "python3"
  },
  "language_info": {
   "codemirror_mode": {
    "name": "ipython",
    "version": 3
   },
   "file_extension": ".py",
   "mimetype": "text/x-python",
   "name": "python",
   "nbconvert_exporter": "python",
   "pygments_lexer": "ipython3",
   "version": "3.9.13"
  }
 },
 "nbformat": 4,
 "nbformat_minor": 5
}
