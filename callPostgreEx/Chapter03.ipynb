{
 "cells": [
  {
   "cell_type": "markdown",
   "id": "b5c9bf6f",
   "metadata": {},
   "source": [
    "TUPLES"
   ]
  },
  {
   "cell_type": "code",
   "execution_count": 15,
   "id": "7cec7865",
   "metadata": {},
   "outputs": [
    {
     "data": {
      "text/plain": [
       "(2, 'j')"
      ]
     },
     "execution_count": 15,
     "metadata": {},
     "output_type": "execute_result"
    }
   ],
   "source": [
    "#convert any sequence to tuple\n",
    "listi = [2,3,4]\n",
    "mystring = \"Bujari\"\n",
    "a, b = tuple(listi), tuple(mystring)\n",
    "\n",
    "#accessing tuple\n",
    "a[0], b[2]"
   ]
  },
  {
   "cell_type": "code",
   "execution_count": 5,
   "id": "96cc63c7",
   "metadata": {},
   "outputs": [
    {
     "data": {
      "text/plain": [
       "((3, 2), 2)"
      ]
     },
     "execution_count": 5,
     "metadata": {},
     "output_type": "execute_result"
    }
   ],
   "source": [
    "#if you have nested\n",
    "nestedtuple = (3,2),(3,2,5)\n",
    "nestedtuple[0], nestedtuple[0][1]"
   ]
  },
  {
   "cell_type": "code",
   "execution_count": 7,
   "id": "2e557fb2",
   "metadata": {},
   "outputs": [
    {
     "data": {
      "text/plain": [
       "(3, ['a', 'e', 'x'], True)"
      ]
     },
     "execution_count": 7,
     "metadata": {},
     "output_type": "execute_result"
    }
   ],
   "source": [
    "#if an object inside tuple is a mutable object like list, you can change or add new items\n",
    "#otherwise you cannot\n",
    "tup = (3,['a','e'], True)\n",
    "#this will throw error TypeError: 'tuple' object does not support item assignment\n",
    "#tup[1] = False\n",
    "\n",
    "#this does not throw error\n",
    "tup[1].append('x')\n",
    "tup"
   ]
  },
  {
   "cell_type": "code",
   "execution_count": 8,
   "id": "a1b6f540",
   "metadata": {},
   "outputs": [
    {
     "data": {
      "text/plain": [
       "((2, 4, 3, 'w', 'r', '2'),\n",
       " (2, 4, 3, 'w', 'r', '2', 2, 4, 3, 'w', 'r', '2', 2, 4, 3, 'w', 'r', '2'))"
      ]
     },
     "execution_count": 8,
     "metadata": {},
     "output_type": "execute_result"
    }
   ],
   "source": [
    "#tuple concatenation\n",
    "a = (2,4,3)\n",
    "b= ('w','r','2')\n",
    "a+b, (a+b)*3"
   ]
  },
  {
   "cell_type": "code",
   "execution_count": 9,
   "id": "476806c8",
   "metadata": {},
   "outputs": [
    {
     "name": "stdout",
     "output_type": "stream",
     "text": [
      "a = 2, b = 3, c = 4\n",
      "a = 1, b = 0, c = 7\n",
      "a = 3, b = 4, c = 5\n"
     ]
    }
   ],
   "source": [
    "#you can unpack tuples\n",
    "a,b,c = (2,4,7)\n",
    "\n",
    "#swapping in python\n",
    "a,b = b,a \n",
    "\n",
    "#printing sequences\n",
    "seq = [(2,3,4),(1,0,7),(3,4,5)]\n",
    "for a,b,c in seq:\n",
    "    print(f\"a = {a}, b = {b}, c = {c}\")"
   ]
  },
  {
   "cell_type": "code",
   "execution_count": 10,
   "id": "ca83c17e",
   "metadata": {},
   "outputs": [
    {
     "data": {
      "text/plain": [
       "3"
      ]
     },
     "execution_count": 10,
     "metadata": {},
     "output_type": "execute_result"
    }
   ],
   "source": [
    "#you can print or assign values like this, with command *rest\n",
    "vals = (1,2,3,4,5,6)\n",
    "a,b, *rest = vals\n",
    "rest\n",
    "\n",
    "#assign for unwanted variables\n",
    "a,b, *_ = vals\n",
    "\n",
    "#methods from tuple\n",
    "a = (1,2,5,2,6,7,9,2)\n",
    "#let's see how many 2s\n",
    "a.count(2)"
   ]
  },
  {
   "cell_type": "markdown",
   "id": "cf7c824f",
   "metadata": {},
   "source": [
    "LIST"
   ]
  },
  {
   "cell_type": "code",
   "execution_count": 16,
   "id": "1a56586f",
   "metadata": {},
   "outputs": [
    {
     "data": {
      "text/plain": [
       "[3, 2, 6, 0]"
      ]
     },
     "execution_count": 16,
     "metadata": {},
     "output_type": "execute_result"
    }
   ],
   "source": [
    "#convert tuple to list\n",
    "#call this to delete list variable if you used in your code\n",
    "del list\n",
    "tup = (3,2,6,0)\n",
    "a = list(tup)\n",
    "a"
   ]
  },
  {
   "cell_type": "code",
   "execution_count": 18,
   "id": "a70c252b",
   "metadata": {},
   "outputs": [
    {
     "data": {
      "text/plain": [
       "[0, 1, 2, 3, 4, 5, 6, 7, 8, 9]"
      ]
     },
     "execution_count": 18,
     "metadata": {},
     "output_type": "execute_result"
    }
   ],
   "source": [
    "#data processing example for list\n",
    "gen = range(10)\n",
    "list(gen)"
   ]
  },
  {
   "cell_type": "code",
   "execution_count": 24,
   "id": "447ff427",
   "metadata": {},
   "outputs": [
    {
     "data": {
      "text/plain": [
       "([5, 4, 3, 6, 3], [5, 2, 4, 3, 6, 3])"
      ]
     },
     "execution_count": 24,
     "metadata": {},
     "output_type": "execute_result"
    }
   ],
   "source": [
    "#adding and removing elements in the list\n",
    "w = [5,4,3,6]\n",
    "w.append(3)\n",
    "\n",
    "#by using insert you can add to specific location\n",
    "q = w.copy()\n",
    "q.insert(1, 2)\n",
    "w, q"
   ]
  },
  {
   "cell_type": "code",
   "execution_count": 27,
   "id": "bad2e376",
   "metadata": {},
   "outputs": [
    {
     "data": {
      "text/plain": [
       "([5, 4, 6], [4, 6])"
      ]
     },
     "execution_count": 27,
     "metadata": {},
     "output_type": "execute_result"
    }
   ],
   "source": [
    "#removing an item from the list by index\n",
    "#it will remove the item with index 2\n",
    "w = [5,4,3,6]\n",
    "w.pop(2)\n",
    "\n",
    "#remove by value\n",
    "y = w.copy()\n",
    "y.remove(5)\n",
    "w,y"
   ]
  },
  {
   "cell_type": "code",
   "execution_count": 29,
   "id": "d454e018",
   "metadata": {},
   "outputs": [
    {
     "data": {
      "text/plain": [
       "(True, True)"
      ]
     },
     "execution_count": 29,
     "metadata": {},
     "output_type": "execute_result"
    }
   ],
   "source": [
    "#checking if exist the value inside the list\n",
    "r = [5,5,3,4,1]\n",
    "\n",
    "5 in r, 0 not in r"
   ]
  },
  {
   "cell_type": "code",
   "execution_count": 32,
   "id": "0db731e5",
   "metadata": {},
   "outputs": [
    {
     "data": {
      "text/plain": [
       "[2, 1, 5, 4, 1, 8, 9]"
      ]
     },
     "execution_count": 32,
     "metadata": {},
     "output_type": "execute_result"
    }
   ],
   "source": [
    "#concatenating list\n",
    "a = [2,1,5]\n",
    "b = [4,1,8,9]\n",
    "a+b\n",
    "\n",
    "#if you need to extend one variable by adding all elemens from different variable list\n",
    "#use extend instead of + for concatenation for performance reason\n",
    "a.extend(b)\n",
    "a"
   ]
  },
  {
   "cell_type": "code",
   "execution_count": 35,
   "id": "1503e461",
   "metadata": {},
   "outputs": [
    {
     "data": {
      "text/plain": [
       "['e', 'ace', 'loo', 'meco', 'raterw']"
      ]
     },
     "execution_count": 35,
     "metadata": {},
     "output_type": "execute_result"
    }
   ],
   "source": [
    "#sorting list\n",
    "a = [4,2,7,1,7,8,0]\n",
    "a.sort()\n",
    "\n",
    "#sorting by length\n",
    "r = [\"ace\", \"meco\", \"raterw\",\"e\", \"loo\"]\n",
    "r.sort(key=len)\n",
    "r"
   ]
  },
  {
   "cell_type": "code",
   "execution_count": 41,
   "id": "68768693",
   "metadata": {},
   "outputs": [
    {
     "data": {
      "text/plain": [
       "[6, 5, 4, 0, 0, 5, 2]"
      ]
     },
     "execution_count": 41,
     "metadata": {},
     "output_type": "execute_result"
    }
   ],
   "source": [
    "#sequence slicing\n",
    "seq = [2,5,1,0,4,5,6]\n",
    "\n",
    "#adding new values to sliced elements\n",
    "seq[2:4] = [0,0]\n",
    "\n",
    "#5 last elements\n",
    "seq[-5:]\n",
    "\n",
    "#from last 5 elements until 2 last elements\n",
    "seq[-5:-2]\n",
    "\n",
    "#take every other element\n",
    "seq[::2]\n",
    "\n",
    "#reversing the list\n",
    "seq[::-1]"
   ]
  },
  {
   "cell_type": "markdown",
   "id": "0f22c92d",
   "metadata": {},
   "source": [
    "DICTIONARY"
   ]
  },
  {
   "cell_type": "code",
   "execution_count": 43,
   "id": "2623fae4",
   "metadata": {},
   "outputs": [
    {
     "data": {
      "text/plain": [
       "({'a': 'some value', 'b': [1, 2, 3, 4], 7: 'my integer'}, 'some value')"
      ]
     },
     "execution_count": 43,
     "metadata": {},
     "output_type": "execute_result"
    }
   ],
   "source": [
    "#adding new element on dictionary\n",
    "d1 = {\"a\": \"some value\", \"b\": [1, 2, 3, 4]}\n",
    "d1[7] = \"my integer\"\n",
    "d1 , d1[\"a\"]"
   ]
  },
  {
   "cell_type": "code",
   "execution_count": 45,
   "id": "77fe1420",
   "metadata": {},
   "outputs": [
    {
     "data": {
      "text/plain": [
       "(True, True)"
      ]
     },
     "execution_count": 45,
     "metadata": {},
     "output_type": "execute_result"
    }
   ],
   "source": [
    "#checking if a key exist in a dictionary\n",
    "\"a\" in d1, \"some\" not in d1"
   ]
  },
  {
   "cell_type": "code",
   "execution_count": 53,
   "id": "525d91ed",
   "metadata": {},
   "outputs": [
    {
     "data": {
      "text/plain": [
       "'some value'"
      ]
     },
     "execution_count": 53,
     "metadata": {},
     "output_type": "execute_result"
    }
   ],
   "source": [
    "d2 = {\"a\": \"some value\", \"b\": [1, 2, 3, 4]}\n",
    "d2[\"macule\"] = (5,2,1,0)\n",
    "\n",
    "#delete by key\n",
    "del d2['macule']\n",
    "\n",
    "#delete by pop using key\n",
    "d2.pop(\"a\")\n",
    "d2\n",
    "\n",
    "#passing deleted value\n",
    "ret = d2.pop(\"a\")\n",
    "ret"
   ]
  },
  {
   "cell_type": "code",
   "execution_count": 56,
   "id": "3c2df172",
   "metadata": {},
   "outputs": [
    {
     "data": {
      "text/plain": [
       "(['a', 'b'],\n",
       " ['some value', [1, 2, 3, 4]],\n",
       " [('a', 'some value'), ('b', [1, 2, 3, 4])])"
      ]
     },
     "execution_count": 56,
     "metadata": {},
     "output_type": "execute_result"
    }
   ],
   "source": [
    "#converting keys to list\n",
    "d3 = {\"a\": \"some value\", \"b\": [1, 2, 3, 4]}\n",
    "alist = list(d3.keys())\n",
    "\n",
    "#converting values to list\n",
    "blist = list(d3.values())\n",
    "\n",
    "#if you need iterations by keys and values\n",
    "clist = list(d3.items())\n",
    "alist, blist, clist"
   ]
  },
  {
   "cell_type": "code",
   "execution_count": 58,
   "id": "b8633e69",
   "metadata": {},
   "outputs": [
    {
     "data": {
      "text/plain": [
       "{'a': \"let's go\", 'b': [1, 2, 3, 4], 'c': 'fero'}"
      ]
     },
     "execution_count": 58,
     "metadata": {},
     "output_type": "execute_result"
    }
   ],
   "source": [
    "#if you need to update dictionary\n",
    "d4 = {\"a\": \"some value\", \"b\": [1, 2, 3, 4]}\n",
    "d4.update({\"a\":\"let's go\", \"c\":\"fero\"})\n",
    "d4"
   ]
  },
  {
   "cell_type": "code",
   "execution_count": 59,
   "id": "8011c449",
   "metadata": {},
   "outputs": [
    {
     "data": {
      "text/plain": [
       "{'a': 7, 'b': 'eros', 'c': (2, 3, 4)}"
      ]
     },
     "execution_count": 59,
     "metadata": {},
     "output_type": "execute_result"
    }
   ],
   "source": [
    "#creating dictionaries from sequences\n",
    "my_keys = [\"a\", \"b\", \"c\"]\n",
    "my_vals = [7, \"eros\", (2,3,4)]\n",
    "dicti = {}\n",
    "for k, v in zip(my_keys, my_vals):\n",
    "    dicti[k] = v\n",
    "\n",
    "dicti"
   ]
  },
  {
   "cell_type": "code",
   "execution_count": 60,
   "id": "53541d87",
   "metadata": {},
   "outputs": [
    {
     "data": {
      "text/plain": [
       "{3: 'alo', 4: [3, 5, 'meco'], 5: 4}"
      ]
     },
     "execution_count": 60,
     "metadata": {},
     "output_type": "execute_result"
    }
   ],
   "source": [
    "#converting tuples to dictionary\n",
    "a = (3,4,5)\n",
    "b = (\"alo\", [3,5,\"meco\"], 4)\n",
    "dicti = dict(zip(a, b))\n",
    "dicti"
   ]
  },
  {
   "cell_type": "code",
   "execution_count": 64,
   "id": "7166e66a",
   "metadata": {},
   "outputs": [
    {
     "data": {
      "text/plain": [
       "({'t': ['tera'], 'g': ['gerim', 'gogo'], 'a': ['azim', 'atom']},\n",
       " {'t': ['tera'], 'g': ['gerim', 'gogo'], 'a': ['azim', 'atom']},\n",
       " defaultdict(list,\n",
       "             {'t': ['tera'], 'g': ['gerim', 'gogo'], 'a': ['azim', 'atom']}))"
      ]
     },
     "execution_count": 64,
     "metadata": {},
     "output_type": "execute_result"
    }
   ],
   "source": [
    "#adding dictionary by alphabet\n",
    "words =[\"tera\", \"gerim\", \"azim\", \"gogo\", \"atom\"]\n",
    "wrds_dict = {}\n",
    "for wrd in words:\n",
    "    letter = wrd[0]\n",
    "    if letter not in wrds_dict:\n",
    "        wrds_dict[letter] = [wrd]\n",
    "    else:\n",
    "        wrds_dict[letter].append(wrd)\n",
    "wrds_dict\n",
    "\n",
    "#the same approach can be achieved by setdefault method\n",
    "wrds_dict1 = {}\n",
    "for wrd in words:\n",
    "    letter = wrd[0]\n",
    "    wrds_dict1.setdefault(letter, []).append(wrd)\n",
    "    \n",
    "#the third same approach\n",
    "from collections import defaultdict\n",
    "wrds_dict2 = defaultdict(list)\n",
    "\n",
    "for wrd in words:\n",
    "    wrds_dict2[wrd[0]].append(wrd)\n",
    "    \n",
    "wrds_dict, wrds_dict1, wrds_dict2"
   ]
  },
  {
   "cell_type": "markdown",
   "id": "f0a7eb94",
   "metadata": {},
   "source": [
    "SET"
   ]
  },
  {
   "cell_type": "code",
   "execution_count": 72,
   "id": "ba7b82d0",
   "metadata": {},
   "outputs": [
    {
     "data": {
      "text/plain": [
       "{0, 1, 4}"
      ]
     },
     "execution_count": 72,
     "metadata": {},
     "output_type": "execute_result"
    }
   ],
   "source": [
    "#Sets can be created in 2 ways\n",
    "set([2,4,2,5,6,5])\n",
    "#or\n",
    "{2,4,2,5,6,5}\n",
    "\n",
    "#sets support mathematical operations as union, intersection, difference and symmetric difference\n",
    "a = {0,2,1,4,5,1}\n",
    "b = {3,1,0,4}\n",
    "a.union(b)\n",
    "#or by\n",
    "a|b\n",
    "\n",
    "#intersection\n",
    "a.intersection(b)\n",
    "#or by\n",
    "a&b"
   ]
  },
  {
   "cell_type": "code",
   "execution_count": 78,
   "id": "42398f7a",
   "metadata": {},
   "outputs": [
    {
     "data": {
      "text/plain": [
       "{2, 4, 5, 6}"
      ]
     },
     "execution_count": 78,
     "metadata": {},
     "output_type": "execute_result"
    }
   ],
   "source": [
    "#list of set methods\n",
    "a = {0,2,1,4,5,1}\n",
    "#adding element to a set\n",
    "a.add(6)\n",
    "\n",
    "#remove all elements in a set\n",
    "#a.clear()\n",
    "\n",
    "#remove element\n",
    "a.remove(0)\n",
    "\n",
    "#removing from the beggining\n",
    "a.pop()"
   ]
  },
  {
   "cell_type": "code",
   "execution_count": 80,
   "id": "40d226ee",
   "metadata": {},
   "outputs": [
    {
     "data": {
      "text/plain": [
       "(True, True)"
      ]
     },
     "execution_count": 80,
     "metadata": {},
     "output_type": "execute_result"
    }
   ],
   "source": [
    "#check if a set is a subset of another set\n",
    "a = {4,3,1,6,3}\n",
    "b = {4,1,3}\n",
    "b.issubset(a), {2,1,5} == {5,2,1}"
   ]
  },
  {
   "cell_type": "markdown",
   "id": "5671f502",
   "metadata": {},
   "source": [
    "BUILT IN FUNCTIONS"
   ]
  },
  {
   "cell_type": "code",
   "execution_count": 84,
   "id": "996a9d8b",
   "metadata": {},
   "outputs": [
    {
     "data": {
      "text/plain": [
       "([1, 2, 4, 4, 7],\n",
       " [' ', ' ', 'a', 'a', 'a', 'b', 'b', 'c', 'e', 'i', 'm', 't'],\n",
       " [9, 8, 7, 6, 5, 4, 3, 2, 1, 0])"
      ]
     },
     "execution_count": 84,
     "metadata": {},
     "output_type": "execute_result"
    }
   ],
   "source": [
    "sorted([4,7,1,2,4]), sorted(\"maca e babit\"), list(reversed(range(10)))"
   ]
  },
  {
   "cell_type": "markdown",
   "id": "698cb003",
   "metadata": {},
   "source": [
    "COMPREHENSIONS"
   ]
  },
  {
   "cell_type": "code",
   "execution_count": 91,
   "id": "0abe333e",
   "metadata": {},
   "outputs": [
    {
     "data": {
      "text/plain": [
       "['a', 'FERONA', 'ac', 'YUIT', 'RETA']"
      ]
     },
     "execution_count": 91,
     "metadata": {},
     "output_type": "execute_result"
    }
   ],
   "source": [
    "a = [\"a\",\"ferona\",\"ac\", \"yuit\", \"reta\"]\n",
    "[val.upper() if len(val) > 2 else val.lower() for val in a ]"
   ]
  },
  {
   "cell_type": "code",
   "execution_count": 94,
   "id": "98e93940",
   "metadata": {},
   "outputs": [
    {
     "data": {
      "text/plain": [
       "{'a': 1, 'b': 2, 'c': 3}"
      ]
     },
     "execution_count": 94,
     "metadata": {},
     "output_type": "execute_result"
    }
   ],
   "source": [
    "#dictionary comprehensions\n",
    "ke = [\"a\",\"b\",\"c\"]\n",
    "val = [1,2,3]\n",
    "\n",
    "edict = {key: vali for key, vali in zip(ke,val)}\n",
    "edict"
   ]
  },
  {
   "cell_type": "code",
   "execution_count": 100,
   "id": "4ee94e12",
   "metadata": {},
   "outputs": [
    {
     "data": {
      "text/plain": [
       "(['Akunala', 'Arambalo'], ['Akunala', 'Arambalo'])"
      ]
     },
     "execution_count": 100,
     "metadata": {},
     "output_type": "execute_result"
    }
   ],
   "source": [
    "mat_names = [[\"Aria\", \"Bombola\", \"Akunala\"],\n",
    "            [\"ZicZac\", \"Aci\", \"Arambalo\"],\n",
    "             [\"Lecutemua\", \"Zizi\",\"Eros\"]]\n",
    "lom = []\n",
    "for x in mat_names:\n",
    "    addme = [x1 for x1 in x if x1.count(\"a\") >= 2]\n",
    "    lom.extend(addme)\n",
    "\n",
    "#the same approach you can do it like this\n",
    "lom1 = [v for x in mat_names for v in x if v.count(\"a\") >= 2]\n",
    "lom, lom1"
   ]
  },
  {
   "cell_type": "code",
   "execution_count": 104,
   "id": "0126d0a0",
   "metadata": {},
   "outputs": [
    {
     "data": {
      "text/plain": [
       "[3, 3, 5, 6, 4]"
      ]
     },
     "execution_count": 104,
     "metadata": {},
     "output_type": "execute_result"
    }
   ],
   "source": [
    "#adding all elements in one\n",
    "y = [(2,3),{3,2,5,6},(1,0,4)]\n",
    "\n",
    "lis = [j for i in y for j in i if j>2]\n",
    "lis"
   ]
  },
  {
   "cell_type": "code",
   "execution_count": 106,
   "id": "f063f7cf",
   "metadata": {},
   "outputs": [
    {
     "data": {
      "text/plain": [
       "[[2, 3, 1], [3, 2, 5], [1, 0, 4]]"
      ]
     },
     "execution_count": 106,
     "metadata": {},
     "output_type": "execute_result"
    }
   ],
   "source": [
    "#let's add from tuples to matrix\n",
    "y = [(2,3,1),(3,2,5),(1,0,4)]\n",
    "mat = [[i for i in tup] for tup in y]\n",
    "mat"
   ]
  },
  {
   "cell_type": "markdown",
   "id": "4ef46298",
   "metadata": {},
   "source": [
    "FUNCTIONS"
   ]
  },
  {
   "cell_type": "code",
   "execution_count": 108,
   "id": "15317a8e",
   "metadata": {},
   "outputs": [
    {
     "data": {
      "text/plain": [
       "['Alabama',\n",
       " 'Georgia',\n",
       " 'Georgia',\n",
       " 'Georgia',\n",
       " 'Florida',\n",
       " 'South   Carolina',\n",
       " 'West Virginia']"
      ]
     },
     "execution_count": 108,
     "metadata": {},
     "output_type": "execute_result"
    }
   ],
   "source": [
    "#cleaning bad characters\n",
    "states = [\"   Alabama \", \"Georgia!\", \"Georgia\", \"georgia\", \"FlOrIda\", \"south   carolina##\", \"West virginia?\"]\n",
    "\n",
    "import re\n",
    "\n",
    "def cleaning(stri):\n",
    "    res = []\n",
    "    for v in stri:\n",
    "        v = v.strip()\n",
    "        v = re.sub(\"[!#?]\",\"\", v)\n",
    "        v = v.title()\n",
    "        res.append(v)\n",
    "    return res\n",
    "\n",
    "a = cleaning(states)\n",
    "a"
   ]
  },
  {
   "cell_type": "code",
   "execution_count": 110,
   "id": "08d86a80",
   "metadata": {},
   "outputs": [
    {
     "data": {
      "text/plain": [
       "(10, 10)"
      ]
     },
     "execution_count": 110,
     "metadata": {},
     "output_type": "execute_result"
    }
   ],
   "source": [
    "#using lambda annonymus\n",
    "def by_func(x):\n",
    "    return x*2\n",
    "a = by_func(5)\n",
    "\n",
    "#the same approach with lambda\n",
    "b = lambda x: x*2\n",
    "\n",
    "a,b(5)"
   ]
  },
  {
   "cell_type": "code",
   "execution_count": 111,
   "id": "a1d6dafe",
   "metadata": {},
   "outputs": [
    {
     "data": {
      "text/plain": [
       "[4, 9, 16]"
      ]
     },
     "execution_count": 111,
     "metadata": {},
     "output_type": "execute_result"
    }
   ],
   "source": [
    "#combinations functions and lambda\n",
    "a = [2,3,4]\n",
    "def my_func(lst, f):\n",
    "    return [f(i) for i in lst]\n",
    "\n",
    "ret = my_func(a, lambda x: x**2)\n",
    "ret"
   ]
  },
  {
   "cell_type": "code",
   "execution_count": 112,
   "id": "79b3be97",
   "metadata": {},
   "outputs": [
    {
     "data": {
      "text/plain": [
       "['aaaa', 'foo', 'abab', 'bar', 'card']"
      ]
     },
     "execution_count": 112,
     "metadata": {},
     "output_type": "execute_result"
    }
   ],
   "source": [
    "#sorting method by using lambda\n",
    "strings = [\"foo\", \"card\", \"bar\", \"aaaa\", \"abab\"]\n",
    "strings.sort(key=lambda x: len(set(x)))\n",
    "strings"
   ]
  },
  {
   "cell_type": "code",
   "execution_count": 113,
   "id": "bb68a441",
   "metadata": {},
   "outputs": [
    {
     "data": {
      "text/plain": [
       "['a', 'b', 'c']"
      ]
     },
     "execution_count": 113,
     "metadata": {},
     "output_type": "execute_result"
    }
   ],
   "source": [
    "#generating iterators\n",
    "#adding keys in list\n",
    "some_dict = {\"a\": 1, \"b\": 2, \"c\": 3}\n",
    "a = iter(some_dict)\n",
    "a = list(a)\n",
    "a"
   ]
  },
  {
   "cell_type": "markdown",
   "id": "c40dd40b",
   "metadata": {},
   "source": [
    "ERROR HANDLING"
   ]
  },
  {
   "cell_type": "code",
   "execution_count": 116,
   "id": "09a3d3dc",
   "metadata": {},
   "outputs": [
    {
     "data": {
      "text/plain": [
       "(4, 5)"
      ]
     },
     "execution_count": 116,
     "metadata": {},
     "output_type": "execute_result"
    }
   ],
   "source": [
    "#error handling i python\n",
    "def attemptfloat(x):\n",
    "    try:\n",
    "        return float(x)\n",
    "    except (TypeError, ValueError):\n",
    "        return x\n",
    "    \n",
    "a = attemptfloat((4,5))\n",
    "a"
   ]
  },
  {
   "cell_type": "markdown",
   "id": "a6d7bea1",
   "metadata": {},
   "source": [
    "WORKING WITH FILES"
   ]
  },
  {
   "cell_type": "code",
   "execution_count": 119,
   "id": "b43e7347",
   "metadata": {},
   "outputs": [
    {
     "name": "stdout",
     "output_type": "stream",
     "text": [
      "Sueña el rico en su riqueza,\n",
      "\n",
      "que más cuidados le ofrece;\n",
      "\n",
      "\n",
      "\n",
      "sueña el pobre que padece\n",
      "\n",
      "su miseria y su pobreza;\n",
      "\n",
      "\n",
      "\n",
      "sueña el que a medrar empieza,\n",
      "\n",
      "sueña el que afana y pretende,\n",
      "\n",
      "sueña el que agravia y ofende,\n",
      "\n",
      "\n",
      "\n",
      "y en el mundo, en conclusión,\n",
      "\n",
      "todos sueñan lo que son,\n",
      "\n",
      "aunque ninguno lo entiende.\n",
      "\n",
      "\n",
      "\n"
     ]
    },
    {
     "data": {
      "text/plain": [
       "['Sueña el rico en su riqueza,',\n",
       " 'que más cuidados le ofrece;',\n",
       " '',\n",
       " 'sueña el pobre que padece',\n",
       " 'su miseria y su pobreza;',\n",
       " '',\n",
       " 'sueña el que a medrar empieza,',\n",
       " 'sueña el que afana y pretende,',\n",
       " 'sueña el que agravia y ofende,',\n",
       " '',\n",
       " 'y en el mundo, en conclusión,',\n",
       " 'todos sueñan lo que son,',\n",
       " 'aunque ninguno lo entiende.',\n",
       " '']"
      ]
     },
     "execution_count": 119,
     "metadata": {},
     "output_type": "execute_result"
    }
   ],
   "source": [
    "path = \"myCSV/segismundo.txt\"\n",
    "f = open(path, encoding=\"utf-8\")\n",
    "for line in f:\n",
    "    print(line)\n",
    "    \n",
    "#better approach\n",
    "lines = [x.rstrip() for x in open(path, encoding=\"utf-8\")]\n",
    "lines\n",
    "f.close\n",
    "\n",
    "#best approach which will automatically close the file\n",
    "with open(path, encoding=\"utf-8\") as f:\n",
    "    lines = [x.rstrip() for x in f]\n",
    "lines\n"
   ]
  },
  {
   "cell_type": "code",
   "execution_count": 123,
   "id": "ecc27a66",
   "metadata": {},
   "outputs": [
    {
     "data": {
      "text/plain": [
       "(b'Sue\\xc3\\xb1a el ', 10, 'Sueña el ')"
      ]
     },
     "execution_count": 123,
     "metadata": {},
     "output_type": "execute_result"
    }
   ],
   "source": [
    "#read first 10 characters\n",
    "path = \"myCSV/segismundo.txt\"\n",
    "with open(path, encoding=\"utf-8\") as f:\n",
    "    chrs = f.read(10)\n",
    "chrs, len(chrs)\n",
    "\n",
    "#read the request number of bytes\n",
    "with open(path, mode=\"rb\") as f:\n",
    "    chrs = f.read(10)\n",
    "chrs, len(chrs), chrs.decode(\"utf-8\")"
   ]
  },
  {
   "cell_type": "code",
   "execution_count": null,
   "id": "3cca7f51",
   "metadata": {},
   "outputs": [],
   "source": []
  }
 ],
 "metadata": {
  "kernelspec": {
   "display_name": "Python 3 (ipykernel)",
   "language": "python",
   "name": "python3"
  },
  "language_info": {
   "codemirror_mode": {
    "name": "ipython",
    "version": 3
   },
   "file_extension": ".py",
   "mimetype": "text/x-python",
   "name": "python",
   "nbconvert_exporter": "python",
   "pygments_lexer": "ipython3",
   "version": "3.9.13"
  }
 },
 "nbformat": 4,
 "nbformat_minor": 5
}
