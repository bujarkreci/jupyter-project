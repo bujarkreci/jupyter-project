{
 "cells": [
  {
   "cell_type": "code",
   "execution_count": 2,
   "id": "5666a20e",
   "metadata": {},
   "outputs": [
    {
     "name": "stdout",
     "output_type": "stream",
     "text": [
      "Connecting...\n",
      "check connection\n",
      "   customerid_out\n",
      "0               2\n"
     ]
    }
   ],
   "source": [
    "from app.db import connectWrite\n",
    "import pandas as pd\n",
    "from sqlalchemy import bindparam, text, String\n",
    "\n",
    "con = connectWrite()\n",
    "print('check connection')\n",
    "fname = 'Arta1'\n",
    "sname = 'Arifi-Kreci'\n",
    "username = 'user2'\n",
    "stmt = text(\"CALL update_customer(:fname, :sname, :username, null)\")\n",
    "\n",
    "stmt = stmt.bindparams(\n",
    "                bindparam('fname', value=fname, type_=String),\n",
    "                bindparam('sname', value=sname, type_=String),\n",
    "                bindparam('username', value=username, type_=String)\n",
    "            )\n",
    "\n",
    "df = pd.read_sql(stmt, con) \n",
    "con.close()\n",
    "print(df)"
   ]
  },
  {
   "cell_type": "code",
   "execution_count": null,
   "id": "e161f208",
   "metadata": {},
   "outputs": [],
   "source": []
  }
 ],
 "metadata": {
  "kernelspec": {
   "display_name": "Python 3 (ipykernel)",
   "language": "python",
   "name": "python3"
  },
  "language_info": {
   "codemirror_mode": {
    "name": "ipython",
    "version": 3
   },
   "file_extension": ".py",
   "mimetype": "text/x-python",
   "name": "python",
   "nbconvert_exporter": "python",
   "pygments_lexer": "ipython3",
   "version": "3.10.6"
  }
 },
 "nbformat": 4,
 "nbformat_minor": 5
}
