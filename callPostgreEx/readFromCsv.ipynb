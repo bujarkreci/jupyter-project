{
 "cells": [
  {
   "cell_type": "code",
   "execution_count": 13,
   "id": "4111521b",
   "metadata": {},
   "outputs": [
    {
     "data": {
      "text/plain": [
       "array([-8.02, -8.41, -8.51, -8.31, -8.27, -8.05, -7.62, -7.62, -7.91,\n",
       "       -8.43, -8.76, -8.88, -8.85, -8.83, -8.66, -8.66, -8.7 , -8.81,\n",
       "       -8.84, -8.94, -8.94, -8.86, -8.99, -9.05, -9.23, -9.49, -9.5 ,\n",
       "       -9.35, -9.47, -9.63])"
      ]
     },
     "execution_count": 13,
     "metadata": {},
     "output_type": "execute_result"
    }
   ],
   "source": [
    "import pandas as pd\n",
    "import numpy as np\n",
    "\n",
    "forecast = pd.read_csv('myCSV/jena_climate_2009_2016.csv')\n",
    "\n",
    "forecast = np.array(forecast)\n",
    "\n",
    "raw_data = np.zeros((forecast.shape[0],forecast.shape[1]-1))\n",
    "temperatures = np.zeros((forecast.shape[0],))\n",
    "\n",
    "for i, x in enumerate(forecast):\n",
    "    vals = [y for y in x]\n",
    "    raw_data[i,:] = vals[1:]\n",
    "    temperatures[i] = vals[2]\n",
    "\"\"\"\n",
    "raw_data = forecast[:,1:].copy()\n",
    "raw_data = raw_data.astype(float)\n",
    "temperatures = forecast[:,:1].copy()\n",
    "raw_data.shape, temperatures.shape\n",
    "\"\"\"\n",
    "raw_data = raw_data.astype(float)\n",
    "temperatures[:30]"
   ]
  },
  {
   "cell_type": "code",
   "execution_count": null,
   "id": "61c92348",
   "metadata": {},
   "outputs": [],
   "source": []
  },
  {
   "cell_type": "code",
   "execution_count": null,
   "id": "b14abc27",
   "metadata": {},
   "outputs": [],
   "source": []
  }
 ],
 "metadata": {
  "kernelspec": {
   "display_name": "Python 3 (ipykernel)",
   "language": "python",
   "name": "python3"
  },
  "language_info": {
   "codemirror_mode": {
    "name": "ipython",
    "version": 3
   },
   "file_extension": ".py",
   "mimetype": "text/x-python",
   "name": "python",
   "nbconvert_exporter": "python",
   "pygments_lexer": "ipython3",
   "version": "3.9.13"
  }
 },
 "nbformat": 4,
 "nbformat_minor": 5
}
