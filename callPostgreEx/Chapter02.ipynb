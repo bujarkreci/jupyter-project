{
 "cells": [
  {
   "cell_type": "markdown",
   "id": "ae53167e",
   "metadata": {},
   "source": [
    "# Hello World"
   ]
  },
  {
   "cell_type": "code",
   "execution_count": 1,
   "id": "ab416660",
   "metadata": {},
   "outputs": [],
   "source": [
    "b = [1,2,3]\n",
    "b?"
   ]
  },
  {
   "cell_type": "code",
   "execution_count": null,
   "id": "03e617a5",
   "metadata": {},
   "outputs": [],
   "source": [
    "import numpy as np\n",
    "\n",
    "np.*load*?"
   ]
  },
  {
   "cell_type": "code",
   "execution_count": 2,
   "id": "f33870ce",
   "metadata": {},
   "outputs": [
    {
     "data": {
      "text/plain": [
       "True"
      ]
     },
     "execution_count": 2,
     "metadata": {},
     "output_type": "execute_result"
    }
   ],
   "source": [
    "a = 5\n",
    "\n",
    "isinstance(a, int)"
   ]
  },
  {
   "cell_type": "code",
   "execution_count": 6,
   "id": "2fdd37e3",
   "metadata": {},
   "outputs": [
    {
     "data": {
      "text/plain": [
       "(True, True)"
      ]
     },
     "execution_count": 6,
     "metadata": {},
     "output_type": "execute_result"
    }
   ],
   "source": [
    "a = 5\n",
    "b = 2.5\n",
    "isinstance(a, (int,float)), isinstance(b, (int, float))"
   ]
  },
  {
   "cell_type": "code",
   "execution_count": 7,
   "id": "0c6a575e",
   "metadata": {},
   "outputs": [
    {
     "data": {
      "text/plain": [
       "(True, True, False)"
      ]
     },
     "execution_count": 7,
     "metadata": {},
     "output_type": "execute_result"
    }
   ],
   "source": [
    "def isiteratable(ob):\n",
    "    try:\n",
    "        iter(ob)\n",
    "        return True\n",
    "    except TypeError:\n",
    "        return False\n",
    "    \n",
    "isiteratable(\"this is my string\"), isiteratable([1,2,3,4]), isiteratable(5)"
   ]
  },
  {
   "cell_type": "code",
   "execution_count": 9,
   "id": "71e0f2ba",
   "metadata": {},
   "outputs": [
    {
     "data": {
      "text/plain": [
       "(1, 7)"
      ]
     },
     "execution_count": 9,
     "metadata": {},
     "output_type": "execute_result"
    }
   ],
   "source": [
    "a = 5\n",
    "b = 3\n",
    "#bitwise AND operator in this ex: 001, bitwise OR operator ex: 111\n",
    "a&b, a|b\n"
   ]
  },
  {
   "cell_type": "code",
   "execution_count": 15,
   "id": "a4729012",
   "metadata": {},
   "outputs": [
    {
     "data": {
      "text/plain": [
       "(False, True)"
      ]
     },
     "execution_count": 15,
     "metadata": {},
     "output_type": "execute_result"
    }
   ],
   "source": [
    "a = [1,2,3]\n",
    "b=a.copy()\n",
    "\n",
    "c = list(a)\n",
    "#a is b will return false because you reated copy\n",
    "#the same is when you create list() type, because c is copy of a\n",
    "a is b, c is not a\n"
   ]
  },
  {
   "cell_type": "code",
   "execution_count": 18,
   "id": "50c4b671",
   "metadata": {},
   "outputs": [
    {
     "data": {
      "text/plain": [
       "(4, 'g')"
      ]
     },
     "execution_count": 18,
     "metadata": {},
     "output_type": "execute_result"
    }
   ],
   "source": [
    "c = \"\"\"\n",
    "today you are going to\n",
    "say that everything\n",
    "goes wrong\n",
    "\"\"\"\n",
    "c.count(\"\\n\"), c[15]"
   ]
  },
  {
   "cell_type": "code",
   "execution_count": 21,
   "id": "5565b806",
   "metadata": {},
   "outputs": [
    {
     "data": {
      "text/plain": [
       "('\\ntoday you will\\nsay that everything\\ngoes wrong\\n',\n",
       " '\\ntoday you are going to\\nsay that everything\\ngoes wrong\\n')"
      ]
     },
     "execution_count": 21,
     "metadata": {},
     "output_type": "execute_result"
    }
   ],
   "source": [
    "b = c.replace(\"are going to\", \"will\")\n",
    "b, c"
   ]
  },
  {
   "cell_type": "code",
   "execution_count": 22,
   "id": "3ca1f0d6",
   "metadata": {},
   "outputs": [
    {
     "data": {
      "text/plain": [
       "['p', 'y', 't', 'h', 'o', 'n']"
      ]
     },
     "execution_count": 22,
     "metadata": {},
     "output_type": "execute_result"
    }
   ],
   "source": [
    "w = \"python\"\n",
    "list(w)"
   ]
  },
  {
   "cell_type": "code",
   "execution_count": 23,
   "id": "68413ba7",
   "metadata": {},
   "outputs": [
    {
     "data": {
      "text/plain": [
       "'88.46 Argentine pesos are worth US$1'"
      ]
     },
     "execution_count": 23,
     "metadata": {},
     "output_type": "execute_result"
    }
   ],
   "source": [
    "#{0:.2f} means format the first argument as a floating point number with 2 decimal places\n",
    "#{1:s} menas format the second argument as a string\n",
    "#{2:d} means format the third argument as an exact integer\n",
    "template = \"{0:.2f} {1:s} are worth US${2:d}\"\n",
    "#now substitute\n",
    "template.format(88.46, \"Argentine pesos\", 1)"
   ]
  },
  {
   "cell_type": "code",
   "execution_count": 25,
   "id": "9dfd93d4",
   "metadata": {},
   "outputs": [
    {
     "data": {
      "text/plain": [
       "'10 Pesos is worth US$0.11'"
      ]
     },
     "execution_count": 25,
     "metadata": {},
     "output_type": "execute_result"
    }
   ],
   "source": [
    "amount = 10\n",
    "rate = 88.46\n",
    "currency = \"Pesos\"\n",
    "result = f\"{amount} {currency} is worth US${amount / rate:.2f}\"\n",
    "result"
   ]
  },
  {
   "cell_type": "code",
   "execution_count": 27,
   "id": "6120d8a9",
   "metadata": {},
   "outputs": [
    {
     "data": {
      "text/plain": [
       "(29,\n",
       " 30,\n",
       " datetime.date(2022, 10, 29),\n",
       " datetime.time(20, 30, 21),\n",
       " '2022-10-29  20:30')"
      ]
     },
     "execution_count": 27,
     "metadata": {},
     "output_type": "execute_result"
    }
   ],
   "source": [
    "#date and time datatypes\n",
    "from datetime import datetime, date, time\n",
    "dt = datetime(2022,10,29,20,30,21)\n",
    "dt.day, dt.minute, dt.date(), dt.time(), dt.strftime(\"%Y-%m-%d  %H:%M\")"
   ]
  },
  {
   "cell_type": "code",
   "execution_count": 28,
   "id": "3193affd",
   "metadata": {},
   "outputs": [
    {
     "data": {
      "text/plain": [
       "datetime.datetime(2009, 10, 31, 0, 0)"
      ]
     },
     "execution_count": 28,
     "metadata": {},
     "output_type": "execute_result"
    }
   ],
   "source": [
    "#convert string to datetime\n",
    "datess = \"20091031\"\n",
    "datetime.strptime(datess, \"%Y%m%d\")"
   ]
  },
  {
   "cell_type": "code",
   "execution_count": 29,
   "id": "a001bc7b",
   "metadata": {},
   "outputs": [
    {
     "data": {
      "text/plain": [
       "datetime.datetime(2022, 10, 29, 20, 0)"
      ]
     },
     "execution_count": 29,
     "metadata": {},
     "output_type": "execute_result"
    }
   ],
   "source": [
    "dt = datetime(2022,10,29,20,30,21)\n",
    "dt_hr = dt.replace(minute=0, second=0)\n",
    "dt_hr"
   ]
  },
  {
   "cell_type": "code",
   "execution_count": 32,
   "id": "eb9e640a",
   "metadata": {},
   "outputs": [
    {
     "data": {
      "text/plain": [
       "(datetime.timedelta(days=-4001, seconds=9000),\n",
       " datetime.datetime(2000, 12, 2, 1, 0))"
      ]
     },
     "execution_count": 32,
     "metadata": {},
     "output_type": "execute_result"
    }
   ],
   "source": [
    "#difference between 2 datetime objects\n",
    "dt1 = datetime(2011,11,15,22,30)\n",
    "delta = dt1 - dt_hr\n",
    "adding = dt1 + delta\n",
    "delta, adding"
   ]
  },
  {
   "cell_type": "code",
   "execution_count": null,
   "id": "3dc46c8f",
   "metadata": {},
   "outputs": [],
   "source": []
  }
 ],
 "metadata": {
  "kernelspec": {
   "display_name": "Python 3 (ipykernel)",
   "language": "python",
   "name": "python3"
  },
  "language_info": {
   "codemirror_mode": {
    "name": "ipython",
    "version": 3
   },
   "file_extension": ".py",
   "mimetype": "text/x-python",
   "name": "python",
   "nbconvert_exporter": "python",
   "pygments_lexer": "ipython3",
   "version": "3.10.6"
  }
 },
 "nbformat": 4,
 "nbformat_minor": 5
}
